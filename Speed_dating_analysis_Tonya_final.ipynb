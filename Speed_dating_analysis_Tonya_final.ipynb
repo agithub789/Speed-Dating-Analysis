{
 "cells": [
  {
   "cell_type": "code",
   "execution_count": 1,
   "metadata": {
    "collapsed": true
   },
   "outputs": [],
   "source": [
    "import pandas as pd\n",
    "import numpy as np\n",
    "from __future__ import division\n",
    "import matplotlib.pyplot as plt\n",
    "%matplotlib inline\n",
    "\n",
    "\n",
    "Location = \"Speed Dating Data.csv\"\n",
    "df = pd.read_csv(Location)"
   ]
  },
  {
   "cell_type": "markdown",
   "metadata": {},
   "source": [
    "***Creating a dataframe with one row for each respondent. The respondent dataframe has 551 observations."
   ]
  },
  {
   "cell_type": "code",
   "execution_count": 2,
   "metadata": {
    "collapsed": true
   },
   "outputs": [],
   "source": [
    "dating_respondent = df.drop_duplicates(['iid'], keep = 'last')"
   ]
  },
  {
   "cell_type": "code",
   "execution_count": 4,
   "metadata": {},
   "outputs": [
    {
     "data": {
      "text/plain": [
       "551"
      ]
     },
     "execution_count": 4,
     "metadata": {},
     "output_type": "execute_result"
    }
   ],
   "source": [
    "dating_respondent['iid'].count()"
   ]
  },
  {
   "cell_type": "markdown",
   "metadata": {},
   "source": [
    "***Creating a dataframe only with variables that might be needed for analysis"
   ]
  },
  {
   "cell_type": "code",
   "execution_count": 3,
   "metadata": {
    "collapsed": true
   },
   "outputs": [],
   "source": [
    "dating_respondent_analysis=dating_respondent[['iid','gender','age','field_cd','race','goal','date','go_out','career_c','exphappy','expnum','dec','like','prob','match_es','satis_2','length','numdat_2', 'date_3']]"
   ]
  },
  {
   "cell_type": "code",
   "execution_count": 5,
   "metadata": {},
   "outputs": [
    {
     "data": {
      "text/html": [
       "<div>\n",
       "<style>\n",
       "    .dataframe thead tr:only-child th {\n",
       "        text-align: right;\n",
       "    }\n",
       "\n",
       "    .dataframe thead th {\n",
       "        text-align: left;\n",
       "    }\n",
       "\n",
       "    .dataframe tbody tr th {\n",
       "        vertical-align: top;\n",
       "    }\n",
       "</style>\n",
       "<table border=\"1\" class=\"dataframe\">\n",
       "  <thead>\n",
       "    <tr style=\"text-align: right;\">\n",
       "      <th></th>\n",
       "      <th>iid</th>\n",
       "      <th>gender</th>\n",
       "      <th>age</th>\n",
       "      <th>field_cd</th>\n",
       "      <th>race</th>\n",
       "      <th>goal</th>\n",
       "      <th>date</th>\n",
       "      <th>go_out</th>\n",
       "      <th>career_c</th>\n",
       "      <th>exphappy</th>\n",
       "      <th>expnum</th>\n",
       "      <th>dec</th>\n",
       "      <th>like</th>\n",
       "      <th>prob</th>\n",
       "      <th>match_es</th>\n",
       "      <th>satis_2</th>\n",
       "      <th>length</th>\n",
       "      <th>numdat_2</th>\n",
       "      <th>date_3</th>\n",
       "    </tr>\n",
       "  </thead>\n",
       "  <tbody>\n",
       "    <tr>\n",
       "      <th>9</th>\n",
       "      <td>1</td>\n",
       "      <td>0</td>\n",
       "      <td>21.0</td>\n",
       "      <td>1.0</td>\n",
       "      <td>4.0</td>\n",
       "      <td>2.0</td>\n",
       "      <td>7.0</td>\n",
       "      <td>1.0</td>\n",
       "      <td>NaN</td>\n",
       "      <td>3.0</td>\n",
       "      <td>2.0</td>\n",
       "      <td>1</td>\n",
       "      <td>6.0</td>\n",
       "      <td>6.0</td>\n",
       "      <td>4.0</td>\n",
       "      <td>6.0</td>\n",
       "      <td>2.0</td>\n",
       "      <td>1.0</td>\n",
       "      <td>0.0</td>\n",
       "    </tr>\n",
       "    <tr>\n",
       "      <th>19</th>\n",
       "      <td>2</td>\n",
       "      <td>0</td>\n",
       "      <td>24.0</td>\n",
       "      <td>1.0</td>\n",
       "      <td>2.0</td>\n",
       "      <td>1.0</td>\n",
       "      <td>5.0</td>\n",
       "      <td>1.0</td>\n",
       "      <td>NaN</td>\n",
       "      <td>4.0</td>\n",
       "      <td>5.0</td>\n",
       "      <td>1</td>\n",
       "      <td>8.0</td>\n",
       "      <td>7.0</td>\n",
       "      <td>3.0</td>\n",
       "      <td>5.0</td>\n",
       "      <td>2.0</td>\n",
       "      <td>NaN</td>\n",
       "      <td>0.0</td>\n",
       "    </tr>\n",
       "    <tr>\n",
       "      <th>29</th>\n",
       "      <td>3</td>\n",
       "      <td>0</td>\n",
       "      <td>25.0</td>\n",
       "      <td>2.0</td>\n",
       "      <td>2.0</td>\n",
       "      <td>6.0</td>\n",
       "      <td>3.0</td>\n",
       "      <td>1.0</td>\n",
       "      <td>NaN</td>\n",
       "      <td>4.0</td>\n",
       "      <td>2.0</td>\n",
       "      <td>0</td>\n",
       "      <td>8.0</td>\n",
       "      <td>7.0</td>\n",
       "      <td>NaN</td>\n",
       "      <td>NaN</td>\n",
       "      <td>NaN</td>\n",
       "      <td>NaN</td>\n",
       "      <td>NaN</td>\n",
       "    </tr>\n",
       "    <tr>\n",
       "      <th>39</th>\n",
       "      <td>4</td>\n",
       "      <td>0</td>\n",
       "      <td>23.0</td>\n",
       "      <td>1.0</td>\n",
       "      <td>2.0</td>\n",
       "      <td>1.0</td>\n",
       "      <td>5.0</td>\n",
       "      <td>1.0</td>\n",
       "      <td>1.0</td>\n",
       "      <td>1.0</td>\n",
       "      <td>2.0</td>\n",
       "      <td>1</td>\n",
       "      <td>10.0</td>\n",
       "      <td>8.0</td>\n",
       "      <td>2.0</td>\n",
       "      <td>4.0</td>\n",
       "      <td>3.0</td>\n",
       "      <td>2.0</td>\n",
       "      <td>0.0</td>\n",
       "    </tr>\n",
       "    <tr>\n",
       "      <th>49</th>\n",
       "      <td>5</td>\n",
       "      <td>0</td>\n",
       "      <td>21.0</td>\n",
       "      <td>1.0</td>\n",
       "      <td>2.0</td>\n",
       "      <td>2.0</td>\n",
       "      <td>4.0</td>\n",
       "      <td>1.0</td>\n",
       "      <td>1.0</td>\n",
       "      <td>7.0</td>\n",
       "      <td>10.0</td>\n",
       "      <td>1</td>\n",
       "      <td>10.0</td>\n",
       "      <td>3.0</td>\n",
       "      <td>NaN</td>\n",
       "      <td>7.0</td>\n",
       "      <td>2.0</td>\n",
       "      <td>2.0</td>\n",
       "      <td>0.0</td>\n",
       "    </tr>\n",
       "  </tbody>\n",
       "</table>\n",
       "</div>"
      ],
      "text/plain": [
       "    iid  gender   age  field_cd  race  goal  date  go_out  career_c  exphappy  \\\n",
       "9     1       0  21.0       1.0   4.0   2.0   7.0     1.0       NaN       3.0   \n",
       "19    2       0  24.0       1.0   2.0   1.0   5.0     1.0       NaN       4.0   \n",
       "29    3       0  25.0       2.0   2.0   6.0   3.0     1.0       NaN       4.0   \n",
       "39    4       0  23.0       1.0   2.0   1.0   5.0     1.0       1.0       1.0   \n",
       "49    5       0  21.0       1.0   2.0   2.0   4.0     1.0       1.0       7.0   \n",
       "\n",
       "    expnum  dec  like  prob  match_es  satis_2  length  numdat_2  date_3  \n",
       "9      2.0    1   6.0   6.0       4.0      6.0     2.0       1.0     0.0  \n",
       "19     5.0    1   8.0   7.0       3.0      5.0     2.0       NaN     0.0  \n",
       "29     2.0    0   8.0   7.0       NaN      NaN     NaN       NaN     NaN  \n",
       "39     2.0    1  10.0   8.0       2.0      4.0     3.0       2.0     0.0  \n",
       "49    10.0    1  10.0   3.0       NaN      7.0     2.0       2.0     0.0  "
      ]
     },
     "execution_count": 5,
     "metadata": {},
     "output_type": "execute_result"
    }
   ],
   "source": [
    "dating_respondent_analysis.head()"
   ]
  },
  {
   "cell_type": "markdown",
   "metadata": {},
   "source": [
    "***Checking what variables have missing values. If a variable has 12 or less missing values, the rows with missing values are not removed. In other cases, they are. For expnum, match_es some respondents could have put \"0\" as a number. In this case, it would not be a missing data point.  "
   ]
  },
  {
   "cell_type": "code",
   "execution_count": 6,
   "metadata": {},
   "outputs": [
    {
     "data": {
      "text/plain": [
       "iid           0\n",
       "gender        0\n",
       "age           8\n",
       "field_cd      7\n",
       "race          6\n",
       "goal          7\n",
       "date          8\n",
       "go_out        7\n",
       "career_c     12\n",
       "exphappy      8\n",
       "expnum      425\n",
       "dec           0\n",
       "like         21\n",
       "prob         26\n",
       "match_es     72\n",
       "satis_2      66\n",
       "length       66\n",
       "numdat_2     69\n",
       "date_3      288\n",
       "dtype: int64"
      ]
     },
     "execution_count": 6,
     "metadata": {},
     "output_type": "execute_result"
    }
   ],
   "source": [
    "dating_respondent_analysis.isnull().sum()"
   ]
  },
  {
   "cell_type": "markdown",
   "metadata": {},
   "source": [
    "***Looking at demographic characteristics of the experiment participants. \n",
    "\n",
    "***Result: The average age is 26, with 24 and 28 in 25 and 75 quartiles (without removing a 55-year old outlier). The age distribution is almost the same for male and female participants. Majority of the participants are White or Asian- American. The gender distribution is almost half and half. Majority of female participants checked social science, education, biological science as their field of study, while overwhelming majority of male participants checked business/finance as their field of study."
   ]
  },
  {
   "cell_type": "code",
   "execution_count": 7,
   "metadata": {},
   "outputs": [
    {
     "data": {
      "text/plain": [
       "<matplotlib.axes._subplots.AxesSubplot at 0x4ba3c50>"
      ]
     },
     "execution_count": 7,
     "metadata": {},
     "output_type": "execute_result"
    },
    {
     "data": {
      "image/png": "[encoded data removed]",
      "text/plain": [
       "<matplotlib.figure.Figure at 0x9f3aeb8>"
      ]
     },
     "metadata": {},
     "output_type": "display_data"
    }
   ],
   "source": [
    "dating_respondent_analysis.boxplot(by='gender', column='age')"
   ]
  },
  {
   "cell_type": "code",
   "execution_count": 11,
   "metadata": {},
   "outputs": [
    {
     "data": {
      "text/plain": [
       "8.0     130\n",
       "10.0     61\n",
       "5.0      56\n",
       "1.0      48\n",
       "13.0     46\n",
       "3.0      46\n",
       "9.0      40\n",
       "11.0     30\n",
       "6.0      21\n",
       "7.0      17\n",
       "2.0      14\n",
       "15.0     11\n",
       "4.0       9\n",
       "14.0      7\n",
       "18.0      3\n",
       "16.0      3\n",
       "17.0      1\n",
       "12.0      1\n",
       "Name: field_cd, dtype: int64"
      ]
     },
     "execution_count": 11,
     "metadata": {},
     "output_type": "execute_result"
    }
   ],
   "source": [
    "dating_respondent_analysis['field_cd'].value_counts()"
   ]
  },
  {
   "cell_type": "code",
   "execution_count": 12,
   "metadata": {},
   "outputs": [
    {
     "data": {
      "text/plain": [
       "gender  field_cd\n",
       "0       3.0          36\n",
       "        9.0          35\n",
       "        10.0         31\n",
       "        8.0          30\n",
       "        11.0         29\n",
       "        13.0         25\n",
       "        1.0          20\n",
       "        6.0          16\n",
       "        5.0          13\n",
       "        15.0          9\n",
       "        7.0           8\n",
       "        4.0           7\n",
       "        2.0           5\n",
       "        14.0          3\n",
       "        16.0          2\n",
       "        18.0          1\n",
       "1       8.0         100\n",
       "        5.0          43\n",
       "        10.0         30\n",
       "        1.0          28\n",
       "        13.0         21\n",
       "        3.0          10\n",
       "        2.0           9\n",
       "        7.0           9\n",
       "        6.0           5\n",
       "        9.0           5\n",
       "        14.0          4\n",
       "        4.0           2\n",
       "        15.0          2\n",
       "        18.0          2\n",
       "        11.0          1\n",
       "        12.0          1\n",
       "        16.0          1\n",
       "        17.0          1\n",
       "Name: field_cd, dtype: int64"
      ]
     },
     "execution_count": 12,
     "metadata": {},
     "output_type": "execute_result"
    }
   ],
   "source": [
    "career_gender = dating_respondent_analysis['field_cd'].groupby(dating_respondent_analysis['gender'])\n",
    "career_gender.value_counts()"
   ]
  },
  {
   "cell_type": "code",
   "execution_count": 10,
   "metadata": {},
   "outputs": [
    {
     "data": {
      "text/plain": [
       "2.0    304\n",
       "4.0    136\n",
       "3.0     42\n",
       "6.0     37\n",
       "1.0     26\n",
       "Name: race, dtype: int64"
      ]
     },
     "execution_count": 10,
     "metadata": {},
     "output_type": "execute_result"
    }
   ],
   "source": [
    "dating_respondent_analysis['race'].value_counts()"
   ]
  },
  {
   "cell_type": "code",
   "execution_count": 11,
   "metadata": {},
   "outputs": [
    {
     "data": {
      "text/plain": [
       "1    277\n",
       "0    274\n",
       "Name: gender, dtype: int64"
      ]
     },
     "execution_count": 11,
     "metadata": {},
     "output_type": "execute_result"
    }
   ],
   "source": [
    "dating_respondent_analysis['gender'].value_counts()"
   ]
  },
  {
   "cell_type": "markdown",
   "metadata": {},
   "source": [
    "***Looking into gender differences regarding why participants decided to attend the speed dating event. \n",
    "\n",
    "***Result: Contrary to general belief, more men than women answered they wanted to participate \"to get a date\" (68% vs 33%) and were \"looking for a serious relationship\" (59% vs 40%)."
   ]
  },
  {
   "cell_type": "code",
   "execution_count": 12,
   "metadata": {},
   "outputs": [
    {
     "data": {
      "text/html": [
       "<div>\n",
       "<style>\n",
       "    .dataframe thead tr:only-child th {\n",
       "        text-align: right;\n",
       "    }\n",
       "\n",
       "    .dataframe thead th {\n",
       "        text-align: left;\n",
       "    }\n",
       "\n",
       "    .dataframe tbody tr th {\n",
       "        vertical-align: top;\n",
       "    }\n",
       "</style>\n",
       "<table border=\"1\" class=\"dataframe\">\n",
       "  <thead>\n",
       "    <tr style=\"text-align: right;\">\n",
       "      <th></th>\n",
       "      <th>Fun night out</th>\n",
       "      <th>Meet new people</th>\n",
       "      <th>Get a date</th>\n",
       "      <th>Serious relationship</th>\n",
       "      <th>Say I did it</th>\n",
       "      <th>Other</th>\n",
       "    </tr>\n",
       "  </thead>\n",
       "  <tbody>\n",
       "    <tr>\n",
       "      <th>Female</th>\n",
       "      <td>50.438596</td>\n",
       "      <td>52.910053</td>\n",
       "      <td>32.5</td>\n",
       "      <td>40.909091</td>\n",
       "      <td>51.428571</td>\n",
       "      <td>46.666667</td>\n",
       "    </tr>\n",
       "    <tr>\n",
       "      <th>Male</th>\n",
       "      <td>49.561404</td>\n",
       "      <td>47.089947</td>\n",
       "      <td>67.5</td>\n",
       "      <td>59.090909</td>\n",
       "      <td>48.571429</td>\n",
       "      <td>53.333333</td>\n",
       "    </tr>\n",
       "  </tbody>\n",
       "</table>\n",
       "</div>"
      ],
      "text/plain": [
       "        Fun night out  Meet new people  Get a date  Serious relationship  \\\n",
       "Female      50.438596        52.910053        32.5             40.909091   \n",
       "Male        49.561404        47.089947        67.5             59.090909   \n",
       "\n",
       "        Say I did it      Other  \n",
       "Female     51.428571  46.666667  \n",
       "Male       48.571429  53.333333  "
      ]
     },
     "execution_count": 12,
     "metadata": {},
     "output_type": "execute_result"
    }
   ],
   "source": [
    "goal_gender_rate = pd.crosstab(index=dating_respondent_analysis['gender'], columns=dating_respondent_analysis['goal'])     \n",
    "goal_gender_rate.columns = [\"Fun night out\",\"Meet new people\",\"Get a date\",\"Serious relationship\", \"Say I did it\", \"Other\"]\n",
    "goal_gender_rate.index= [\"Female\",\"Male\"]\n",
    "goal_gender_rate/goal_gender_rate.sum()*100"
   ]
  },
  {
   "cell_type": "markdown",
   "metadata": {},
   "source": [
    "***Looking into gender differences regarding what could be loosely called \"dating confidence.\" The questions asked were \"Out of 20 people you will meet, how many do you expect will be interested in dating you?\" (expnum), \"How probable do you think it is that this person will say 'yes' for you? (prob), and \"How many matches do you estimate you will get?\"(match_es)\n",
    "\n",
    "***Result: There is almost no difference in responses for women and men to the first two questions: both groups hoped to have approximately 6 out of 20 dates be interested in them, and in the scorecard they gave 5 points on the scale from 1 to 10 that a date would say 'yes.' Men were slightly more optimistic than women about number of matches they would get (3.1 vs 2.8)."
   ]
  },
  {
   "cell_type": "code",
   "execution_count": 13,
   "metadata": {},
   "outputs": [
    {
     "data": {
      "text/plain": [
       "gender\n",
       "0    5.870968\n",
       "1    5.906250\n",
       "Name: expnum, dtype: float64"
      ]
     },
     "execution_count": 13,
     "metadata": {},
     "output_type": "execute_result"
    }
   ],
   "source": [
    "expnum_gender = dating_respondent_analysis['expnum'].groupby(dating_respondent_analysis['gender'])\n",
    "expnum_gender.mean()"
   ]
  },
  {
   "cell_type": "code",
   "execution_count": 14,
   "metadata": {
    "collapsed": true
   },
   "outputs": [],
   "source": [
    "#removing rows with missing values for \"prob\"\n",
    "no_missing_prob = dating_respondent_analysis[dating_respondent_analysis['prob'].notnull()]"
   ]
  },
  {
   "cell_type": "code",
   "execution_count": 15,
   "metadata": {},
   "outputs": [
    {
     "data": {
      "text/plain": [
       "525"
      ]
     },
     "execution_count": 15,
     "metadata": {},
     "output_type": "execute_result"
    }
   ],
   "source": [
    "no_missing_prob ['prob'].count()"
   ]
  },
  {
   "cell_type": "code",
   "execution_count": 16,
   "metadata": {},
   "outputs": [
    {
     "data": {
      "text/plain": [
       "gender\n",
       "0    5.160232\n",
       "1    5.223684\n",
       "Name: prob, dtype: float64"
      ]
     },
     "execution_count": 16,
     "metadata": {},
     "output_type": "execute_result"
    }
   ],
   "source": [
    "prob_gender = no_missing_prob ['prob'].groupby(no_missing_prob ['gender'])\n",
    "prob_gender.mean()"
   ]
  },
  {
   "cell_type": "code",
   "execution_count": 19,
   "metadata": {},
   "outputs": [
    {
     "data": {
      "text/plain": [
       "gender\n",
       "0    2.881250\n",
       "1    3.173222\n",
       "Name: match_es, dtype: float64"
      ]
     },
     "execution_count": 19,
     "metadata": {},
     "output_type": "execute_result"
    }
   ],
   "source": [
    "match_es_gender = dating_respondent_analysis['match_es'].groupby(dating_respondent_analysis['gender'])\n",
    "match_es_gender.mean()"
   ]
  },
  {
   "cell_type": "markdown",
   "metadata": {},
   "source": [
    "*** Looking into gender differences in assessing of liking a date, being satisfied with the dates, and evaluating the speed dating event.\n",
    "\n",
    "***Results: Men liked their dates slightly more than women did (6.2 vs. 5.7 points), they also were more satisfied with the people they met than women were (6 vs. 5.2 points).\n",
    "Regarding the speed dating event itself, more men wanted to talk to more women and for more than 4 minutes (the allocated time for a conversation), while female participants said they met too many men, and 4 minutes were more than enough."
   ]
  },
  {
   "cell_type": "code",
   "execution_count": 21,
   "metadata": {
    "collapsed": true
   },
   "outputs": [],
   "source": [
    "#removing rows with missing values for \"like\"\n",
    "no_missing_like = dating_respondent_analysis[dating_respondent_analysis['like'].notnull()]"
   ]
  },
  {
   "cell_type": "code",
   "execution_count": 22,
   "metadata": {},
   "outputs": [
    {
     "data": {
      "text/plain": [
       "gender\n",
       "0    5.763462\n",
       "1    6.294444\n",
       "Name: like, dtype: float64"
      ]
     },
     "execution_count": 22,
     "metadata": {},
     "output_type": "execute_result"
    }
   ],
   "source": [
    "like_gender = dating_respondent_analysis['like'].groupby(dating_respondent_analysis['gender'])\n",
    "like_gender.mean()"
   ]
  },
  {
   "cell_type": "code",
   "execution_count": 23,
   "metadata": {
    "collapsed": true
   },
   "outputs": [],
   "source": [
    "#removing rows with missing values for \"satis_2\"\n",
    "no_missing_satis = dating_respondent_analysis[dating_respondent_analysis['satis_2'].notnull()]"
   ]
  },
  {
   "cell_type": "code",
   "execution_count": 24,
   "metadata": {},
   "outputs": [
    {
     "data": {
      "text/plain": [
       "485"
      ]
     },
     "execution_count": 24,
     "metadata": {},
     "output_type": "execute_result"
    }
   ],
   "source": [
    "no_missing_satis ['satis_2'].count()"
   ]
  },
  {
   "cell_type": "code",
   "execution_count": 25,
   "metadata": {},
   "outputs": [
    {
     "data": {
      "text/plain": [
       "gender\n",
       "0    5.289916\n",
       "1    6.048583\n",
       "Name: satis_2, dtype: float64"
      ]
     },
     "execution_count": 25,
     "metadata": {},
     "output_type": "execute_result"
    }
   ],
   "source": [
    "satis_gender = no_missing_satis ['satis_2'].groupby(no_missing_satis['gender'])\n",
    "satis_gender.mean()"
   ]
  },
  {
   "cell_type": "code",
   "execution_count": 26,
   "metadata": {},
   "outputs": [
    {
     "data": {
      "text/plain": [
       "485"
      ]
     },
     "execution_count": 26,
     "metadata": {},
     "output_type": "execute_result"
    }
   ],
   "source": [
    "#removing rows with missing values for \"length\"\n",
    "no_missing_length = dating_respondent_analysis[dating_respondent_analysis['length'].notnull()]\n",
    "no_missing_length ['length'].count()"
   ]
  },
  {
   "cell_type": "code",
   "execution_count": 27,
   "metadata": {},
   "outputs": [
    {
     "data": {
      "text/html": [
       "<div>\n",
       "<style>\n",
       "    .dataframe thead tr:only-child th {\n",
       "        text-align: right;\n",
       "    }\n",
       "\n",
       "    .dataframe thead th {\n",
       "        text-align: left;\n",
       "    }\n",
       "\n",
       "    .dataframe tbody tr th {\n",
       "        vertical-align: top;\n",
       "    }\n",
       "</style>\n",
       "<table border=\"1\" class=\"dataframe\">\n",
       "  <thead>\n",
       "    <tr style=\"text-align: right;\">\n",
       "      <th>length</th>\n",
       "      <th>1.0</th>\n",
       "      <th>2.0</th>\n",
       "      <th>3.0</th>\n",
       "    </tr>\n",
       "    <tr>\n",
       "      <th>gender</th>\n",
       "      <th></th>\n",
       "      <th></th>\n",
       "      <th></th>\n",
       "    </tr>\n",
       "  </thead>\n",
       "  <tbody>\n",
       "    <tr>\n",
       "      <th>0</th>\n",
       "      <td>42.750929</td>\n",
       "      <td>64.285714</td>\n",
       "      <td>56.435644</td>\n",
       "    </tr>\n",
       "    <tr>\n",
       "      <th>1</th>\n",
       "      <td>57.249071</td>\n",
       "      <td>35.714286</td>\n",
       "      <td>43.564356</td>\n",
       "    </tr>\n",
       "  </tbody>\n",
       "</table>\n",
       "</div>"
      ],
      "text/plain": [
       "length        1.0        2.0        3.0\n",
       "gender                                 \n",
       "0       42.750929  64.285714  56.435644\n",
       "1       57.249071  35.714286  43.564356"
      ]
     },
     "execution_count": 27,
     "metadata": {},
     "output_type": "execute_result"
    }
   ],
   "source": [
    "length_gender_rate = pd.crosstab(index=no_missing_length['gender'], columns=no_missing_length['length']) \n",
    "length_gender_rate/length_gender_rate.sum()*100"
   ]
  },
  {
   "cell_type": "code",
   "execution_count": 28,
   "metadata": {},
   "outputs": [
    {
     "data": {
      "text/plain": [
       "482"
      ]
     },
     "execution_count": 28,
     "metadata": {},
     "output_type": "execute_result"
    }
   ],
   "source": [
    "#removing rows with missing values for \"numdat_2\"\n",
    "no_missing_numdat = dating_respondent_analysis[dating_respondent_analysis['numdat_2'].notnull()]\n",
    "no_missing_numdat['numdat_2'].count()"
   ]
  },
  {
   "cell_type": "code",
   "execution_count": 29,
   "metadata": {},
   "outputs": [
    {
     "data": {
      "text/html": [
       "<div>\n",
       "<style>\n",
       "    .dataframe thead tr:only-child th {\n",
       "        text-align: right;\n",
       "    }\n",
       "\n",
       "    .dataframe thead th {\n",
       "        text-align: left;\n",
       "    }\n",
       "\n",
       "    .dataframe tbody tr th {\n",
       "        vertical-align: top;\n",
       "    }\n",
       "</style>\n",
       "<table border=\"1\" class=\"dataframe\">\n",
       "  <thead>\n",
       "    <tr style=\"text-align: right;\">\n",
       "      <th>numdat_2</th>\n",
       "      <th>1.0</th>\n",
       "      <th>2.0</th>\n",
       "      <th>3.0</th>\n",
       "    </tr>\n",
       "    <tr>\n",
       "      <th>gender</th>\n",
       "      <th></th>\n",
       "      <th></th>\n",
       "      <th></th>\n",
       "    </tr>\n",
       "  </thead>\n",
       "  <tbody>\n",
       "    <tr>\n",
       "      <th>0</th>\n",
       "      <td>44.444444</td>\n",
       "      <td>52.912621</td>\n",
       "      <td>46.948357</td>\n",
       "    </tr>\n",
       "    <tr>\n",
       "      <th>1</th>\n",
       "      <td>55.555556</td>\n",
       "      <td>47.087379</td>\n",
       "      <td>53.051643</td>\n",
       "    </tr>\n",
       "  </tbody>\n",
       "</table>\n",
       "</div>"
      ],
      "text/plain": [
       "numdat_2        1.0        2.0        3.0\n",
       "gender                                   \n",
       "0         44.444444  52.912621  46.948357\n",
       "1         55.555556  47.087379  53.051643"
      ]
     },
     "execution_count": 29,
     "metadata": {},
     "output_type": "execute_result"
    }
   ],
   "source": [
    "numdat_gender_rate = pd.crosstab(index=no_missing_numdat['gender'], columns=no_missing_numdat['numdat_2']) \n",
    "numdat_gender_rate/numdat_gender_rate.sum()*100"
   ]
  },
  {
   "cell_type": "markdown",
   "metadata": {
    "collapsed": true
   },
   "source": [
    "***Creating a dataframe with all observations for dates and only with variables that might be needed for analysis."
   ]
  },
  {
   "cell_type": "code",
   "execution_count": 4,
   "metadata": {
    "collapsed": true
   },
   "outputs": [],
   "source": [
    "dating_all = df[['iid', 'id','match','gender','pid','race','field_cd','dec','attr','sinc','intel','fun','amb','shar','like','date_3']]"
   ]
  },
  {
   "cell_type": "code",
   "execution_count": 5,
   "metadata": {},
   "outputs": [
    {
     "data": {
      "text/html": [
       "<div>\n",
       "<style>\n",
       "    .dataframe thead tr:only-child th {\n",
       "        text-align: right;\n",
       "    }\n",
       "\n",
       "    .dataframe thead th {\n",
       "        text-align: left;\n",
       "    }\n",
       "\n",
       "    .dataframe tbody tr th {\n",
       "        vertical-align: top;\n",
       "    }\n",
       "</style>\n",
       "<table border=\"1\" class=\"dataframe\">\n",
       "  <thead>\n",
       "    <tr style=\"text-align: right;\">\n",
       "      <th></th>\n",
       "      <th>iid</th>\n",
       "      <th>id</th>\n",
       "      <th>match</th>\n",
       "      <th>gender</th>\n",
       "      <th>pid</th>\n",
       "      <th>race</th>\n",
       "      <th>field_cd</th>\n",
       "      <th>dec</th>\n",
       "      <th>attr</th>\n",
       "      <th>sinc</th>\n",
       "      <th>intel</th>\n",
       "      <th>fun</th>\n",
       "      <th>amb</th>\n",
       "      <th>shar</th>\n",
       "      <th>like</th>\n",
       "      <th>date_3</th>\n",
       "    </tr>\n",
       "  </thead>\n",
       "  <tbody>\n",
       "    <tr>\n",
       "      <th>0</th>\n",
       "      <td>1</td>\n",
       "      <td>1.0</td>\n",
       "      <td>0</td>\n",
       "      <td>0</td>\n",
       "      <td>11.0</td>\n",
       "      <td>4.0</td>\n",
       "      <td>1.0</td>\n",
       "      <td>1</td>\n",
       "      <td>6.0</td>\n",
       "      <td>9.0</td>\n",
       "      <td>7.0</td>\n",
       "      <td>7.0</td>\n",
       "      <td>6.0</td>\n",
       "      <td>5.0</td>\n",
       "      <td>7.0</td>\n",
       "      <td>0.0</td>\n",
       "    </tr>\n",
       "    <tr>\n",
       "      <th>1</th>\n",
       "      <td>1</td>\n",
       "      <td>1.0</td>\n",
       "      <td>0</td>\n",
       "      <td>0</td>\n",
       "      <td>12.0</td>\n",
       "      <td>4.0</td>\n",
       "      <td>1.0</td>\n",
       "      <td>1</td>\n",
       "      <td>7.0</td>\n",
       "      <td>8.0</td>\n",
       "      <td>7.0</td>\n",
       "      <td>8.0</td>\n",
       "      <td>5.0</td>\n",
       "      <td>6.0</td>\n",
       "      <td>7.0</td>\n",
       "      <td>0.0</td>\n",
       "    </tr>\n",
       "    <tr>\n",
       "      <th>2</th>\n",
       "      <td>1</td>\n",
       "      <td>1.0</td>\n",
       "      <td>1</td>\n",
       "      <td>0</td>\n",
       "      <td>13.0</td>\n",
       "      <td>4.0</td>\n",
       "      <td>1.0</td>\n",
       "      <td>1</td>\n",
       "      <td>5.0</td>\n",
       "      <td>8.0</td>\n",
       "      <td>9.0</td>\n",
       "      <td>8.0</td>\n",
       "      <td>5.0</td>\n",
       "      <td>7.0</td>\n",
       "      <td>7.0</td>\n",
       "      <td>0.0</td>\n",
       "    </tr>\n",
       "    <tr>\n",
       "      <th>3</th>\n",
       "      <td>1</td>\n",
       "      <td>1.0</td>\n",
       "      <td>1</td>\n",
       "      <td>0</td>\n",
       "      <td>14.0</td>\n",
       "      <td>4.0</td>\n",
       "      <td>1.0</td>\n",
       "      <td>1</td>\n",
       "      <td>7.0</td>\n",
       "      <td>6.0</td>\n",
       "      <td>8.0</td>\n",
       "      <td>7.0</td>\n",
       "      <td>6.0</td>\n",
       "      <td>8.0</td>\n",
       "      <td>7.0</td>\n",
       "      <td>0.0</td>\n",
       "    </tr>\n",
       "    <tr>\n",
       "      <th>4</th>\n",
       "      <td>1</td>\n",
       "      <td>1.0</td>\n",
       "      <td>1</td>\n",
       "      <td>0</td>\n",
       "      <td>15.0</td>\n",
       "      <td>4.0</td>\n",
       "      <td>1.0</td>\n",
       "      <td>1</td>\n",
       "      <td>5.0</td>\n",
       "      <td>6.0</td>\n",
       "      <td>7.0</td>\n",
       "      <td>7.0</td>\n",
       "      <td>6.0</td>\n",
       "      <td>6.0</td>\n",
       "      <td>6.0</td>\n",
       "      <td>0.0</td>\n",
       "    </tr>\n",
       "  </tbody>\n",
       "</table>\n",
       "</div>"
      ],
      "text/plain": [
       "   iid   id  match  gender   pid  race  field_cd  dec  attr  sinc  intel  fun  \\\n",
       "0    1  1.0      0       0  11.0   4.0       1.0    1   6.0   9.0    7.0  7.0   \n",
       "1    1  1.0      0       0  12.0   4.0       1.0    1   7.0   8.0    7.0  8.0   \n",
       "2    1  1.0      1       0  13.0   4.0       1.0    1   5.0   8.0    9.0  8.0   \n",
       "3    1  1.0      1       0  14.0   4.0       1.0    1   7.0   6.0    8.0  7.0   \n",
       "4    1  1.0      1       0  15.0   4.0       1.0    1   5.0   6.0    7.0  7.0   \n",
       "\n",
       "   amb  shar  like  date_3  \n",
       "0  6.0   5.0   7.0     0.0  \n",
       "1  5.0   6.0   7.0     0.0  \n",
       "2  5.0   7.0   7.0     0.0  \n",
       "3  6.0   8.0   7.0     0.0  \n",
       "4  6.0   6.0   6.0     0.0  "
      ]
     },
     "execution_count": 5,
     "metadata": {},
     "output_type": "execute_result"
    }
   ],
   "source": [
    "dating_all.head()"
   ]
  },
  {
   "cell_type": "markdown",
   "metadata": {},
   "source": [
    "***After each speed date conversation, experiment participants had to fill in a scorecard, where they had to rate the partners they just talked to, using six attributes: attractive, sincere, intelligent, fun, ambitious, shared interests/hobbies. Let's explore if there is a difference in how men and women ranked their partners. Also, let's check if those who were or were not matched, on average, gave higher or lower scores on these attributes.\n",
    "\n",
    "***Results: \n",
    "Men gave higher scores on attribute \"attractive\" than women did: 6.5 vs. 5.9. This is the highest difference in scores among all attributes. Women gave slightly higher score on ambition (7 vs. 6.6) and intelligence (7.4 vs. 7.3). Men gave slightly higher scores on sincerity (7.2 vs. 7.1), fun (6.5 vs. 6.3) and shared interest (5.5 vs. 5.4).\n",
    "The respondents who were matched gave higher scores on all six attributes than the respondents who were not matched. For example, experiment participants who were matched, gave an average score of 7.3 on attractiveness, while participants who were not matched, gave 6."
   ]
  },
  {
   "cell_type": "code",
   "execution_count": 20,
   "metadata": {},
   "outputs": [
    {
     "data": {
      "text/plain": [
       "iid            0\n",
       "id             1\n",
       "match          0\n",
       "gender         0\n",
       "pid           10\n",
       "race          63\n",
       "field_cd      82\n",
       "dec            0\n",
       "attr         202\n",
       "sinc         277\n",
       "intel        296\n",
       "fun          350\n",
       "amb          712\n",
       "shar        1067\n",
       "like         240\n",
       "date_3      4404\n",
       "dtype: int64"
      ]
     },
     "execution_count": 20,
     "metadata": {},
     "output_type": "execute_result"
    }
   ],
   "source": [
    "# Checking missing values\n",
    "dating_all.isnull().sum()"
   ]
  },
  {
   "cell_type": "code",
   "execution_count": 19,
   "metadata": {},
   "outputs": [
    {
     "data": {
      "text/plain": [
       "count    8176.000000\n",
       "mean        6.189995\n",
       "std         1.950169\n",
       "min         0.000000\n",
       "25%         5.000000\n",
       "50%         6.000000\n",
       "75%         8.000000\n",
       "max        10.000000\n",
       "Name: attr, dtype: float64"
      ]
     },
     "execution_count": 19,
     "metadata": {},
     "output_type": "execute_result"
    }
   ],
   "source": [
    "dating_all['attr'].describe()"
   ]
  },
  {
   "cell_type": "code",
   "execution_count": 6,
   "metadata": {},
   "outputs": [
    {
     "data": {
      "text/plain": [
       "gender\n",
       "0    5.919300\n",
       "1    6.460029\n",
       "Name: attr, dtype: float64"
      ]
     },
     "execution_count": 6,
     "metadata": {},
     "output_type": "execute_result"
    }
   ],
   "source": [
    "attr_gender = dating_all['attr'].groupby(dating_all['gender'])\n",
    "attr_gender.mean()"
   ]
  },
  {
   "cell_type": "code",
   "execution_count": 7,
   "metadata": {},
   "outputs": [
    {
     "data": {
      "text/plain": [
       "gender\n",
       "0    7.099778\n",
       "1    7.250680\n",
       "Name: sinc, dtype: float64"
      ]
     },
     "execution_count": 7,
     "metadata": {},
     "output_type": "execute_result"
    }
   ],
   "source": [
    "sinc_gender = dating_all['sinc'].groupby(dating_all['gender'])\n",
    "sinc_gender.mean()"
   ]
  },
  {
   "cell_type": "code",
   "execution_count": 8,
   "metadata": {},
   "outputs": [
    {
     "data": {
      "text/plain": [
       "gender\n",
       "0    7.447362\n",
       "1    7.289988\n",
       "Name: intel, dtype: float64"
      ]
     },
     "execution_count": 8,
     "metadata": {},
     "output_type": "execute_result"
    }
   ],
   "source": [
    "intel_gender = dating_all['intel'].groupby(dating_all['gender'])\n",
    "intel_gender.mean()"
   ]
  },
  {
   "cell_type": "code",
   "execution_count": 9,
   "metadata": {},
   "outputs": [
    {
     "data": {
      "text/plain": [
       "gender\n",
       "0    6.280555\n",
       "1    6.519866\n",
       "Name: fun, dtype: float64"
      ]
     },
     "execution_count": 9,
     "metadata": {},
     "output_type": "execute_result"
    }
   ],
   "source": [
    "fun_gender = dating_all['fun'].groupby(dating_all['gender'])\n",
    "fun_gender.mean()"
   ]
  },
  {
   "cell_type": "code",
   "execution_count": 10,
   "metadata": {},
   "outputs": [
    {
     "data": {
      "text/plain": [
       "gender\n",
       "0    6.952773\n",
       "1    6.603278\n",
       "Name: amb, dtype: float64"
      ]
     },
     "execution_count": 10,
     "metadata": {},
     "output_type": "execute_result"
    }
   ],
   "source": [
    "amb_gender = dating_all['amb'].groupby(dating_all['gender'])\n",
    "amb_gender.mean()"
   ]
  },
  {
   "cell_type": "code",
   "execution_count": 21,
   "metadata": {
    "collapsed": true
   },
   "outputs": [],
   "source": [
    "#removing rows with missing values for \"shar\"\n",
    "no_missing_shar = dating_all[dating_all['shar'].notnull()]"
   ]
  },
  {
   "cell_type": "code",
   "execution_count": 22,
   "metadata": {},
   "outputs": [
    {
     "data": {
      "text/plain": [
       "gender\n",
       "0    5.407012\n",
       "1    5.540373\n",
       "Name: shar, dtype: float64"
      ]
     },
     "execution_count": 22,
     "metadata": {},
     "output_type": "execute_result"
    }
   ],
   "source": [
    "shar_gender = no_missing_shar['shar'].groupby(no_missing_shar['gender'])\n",
    "shar_gender.mean()"
   ]
  },
  {
   "cell_type": "code",
   "execution_count": 12,
   "metadata": {},
   "outputs": [
    {
     "data": {
      "text/plain": [
       "match\n",
       "0    5.961230\n",
       "1    7.319535\n",
       "Name: attr, dtype: float64"
      ]
     },
     "execution_count": 12,
     "metadata": {},
     "output_type": "execute_result"
    }
   ],
   "source": [
    "attr_match = dating_all['attr'].groupby(dating_all['match'])\n",
    "attr_match.mean()"
   ]
  },
  {
   "cell_type": "code",
   "execution_count": 14,
   "metadata": {},
   "outputs": [
    {
     "data": {
      "text/plain": [
       "match\n",
       "0    7.046056\n",
       "1    7.809489\n",
       "Name: sinc, dtype: float64"
      ]
     },
     "execution_count": 14,
     "metadata": {},
     "output_type": "execute_result"
    }
   ],
   "source": [
    "sinc_match = dating_all['sinc'].groupby(dating_all['match'])\n",
    "sinc_match.mean()"
   ]
  },
  {
   "cell_type": "code",
   "execution_count": 15,
   "metadata": {},
   "outputs": [
    {
     "data": {
      "text/plain": [
       "match\n",
       "0    7.249851\n",
       "1    7.950365\n",
       "Name: intel, dtype: float64"
      ]
     },
     "execution_count": 15,
     "metadata": {},
     "output_type": "execute_result"
    }
   ],
   "source": [
    "intel_match = dating_all['intel'].groupby(dating_all['match'])\n",
    "intel_match.mean()"
   ]
  },
  {
   "cell_type": "code",
   "execution_count": 16,
   "metadata": {},
   "outputs": [
    {
     "data": {
      "text/plain": [
       "match\n",
       "0    6.155185\n",
       "1    7.598535\n",
       "Name: fun, dtype: float64"
      ]
     },
     "execution_count": 16,
     "metadata": {},
     "output_type": "execute_result"
    }
   ],
   "source": [
    "fun_match = dating_all['fun'].groupby(dating_all['match'])\n",
    "fun_match.mean()"
   ]
  },
  {
   "cell_type": "code",
   "execution_count": 17,
   "metadata": {},
   "outputs": [
    {
     "data": {
      "text/plain": [
       "match\n",
       "0    6.663891\n",
       "1    7.332949\n",
       "Name: amb, dtype: float64"
      ]
     },
     "execution_count": 17,
     "metadata": {},
     "output_type": "execute_result"
    }
   ],
   "source": [
    "amb_match = dating_all['amb'].groupby(dating_all['match'])\n",
    "amb_match.mean()"
   ]
  },
  {
   "cell_type": "code",
   "execution_count": 23,
   "metadata": {},
   "outputs": [
    {
     "data": {
      "text/plain": [
       "match\n",
       "0    5.208230\n",
       "1    6.753571\n",
       "Name: shar, dtype: float64"
      ]
     },
     "execution_count": 23,
     "metadata": {},
     "output_type": "execute_result"
    }
   ],
   "source": [
    "shar_match = no_missing_shar['shar'].groupby(no_missing_shar['match'])\n",
    "shar_match.mean()"
   ]
  },
  {
   "cell_type": "code",
   "execution_count": null,
   "metadata": {
    "collapsed": true
   },
   "outputs": [],
   "source": []
  }
 ],
 "metadata": {
  "kernelspec": {
   "display_name": "Python 2",
   "language": "python",
   "name": "python2"
  },
  "language_info": {
   "codemirror_mode": {
    "name": "ipython",
    "version": 2
   },
   "file_extension": ".py",
   "mimetype": "text/x-python",
   "name": "python",
   "nbconvert_exporter": "python",
   "pygments_lexer": "ipython2",
   "version": "2.7.13"
  }
 },
 "nbformat": 4,
 "nbformat_minor": 2
}
